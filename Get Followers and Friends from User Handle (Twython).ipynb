{
 "cells": [
  {
   "cell_type": "markdown",
   "metadata": {},
   "source": [
    "# Get Followers & Friends from User Handle using Twython\n",
    "\n",
    "*Created by Kate Schneider* <br> \n",
    "*Last updated June 2, 2020*\n",
    "\n",
    "\n",
    "#### About the Script\n",
    "\n",
    "This script is used to download the followers and friends of a user based on either their screen name (handle) or user ID. It uses Twitter's [GET followers/ids](https://developer.twitter.com/en/docs/accounts-and-users/follow-search-get-users/api-reference/get-followers-ids) and [GET friends/ids](https://developer.twitter.com/en/docs/accounts-and-users/follow-search-get-users/api-reference/get-friends-ids) API endpoints.\n",
    "\n",
    "For this project, I'm using it to download the friends and followers of Canadian MPs (338) and Senators (105).\n",
    "\n",
    "#### Rate Limits\n",
    "\n",
    "For both endpoints, the rate limits are as follows:\n",
    "* 15 requests every 15 min\n",
    "* no daily or hourly limits\n",
    "\n",
    "As each request returns 5,000 users, this means you are permitted to download 15,000 users every 15 minutes.\n",
    "\n",
    "#### Twython Documentation\n",
    "\n",
    "This test program uses the Twython Python wrapper for Twitter APIs. For documentation on Twython, see [here](https://twython.readthedocs.io/en/latest/index.html).\n",
    "\n",
    "For a GitHub repository with Twython examples from the creator of Twython, see [here](https://github.com/ryanmcgrath/twython)."
   ]
  },
  {
   "cell_type": "markdown",
   "metadata": {},
   "source": [
    "### Importing Libraries"
   ]
  },
  {
   "cell_type": "markdown",
   "metadata": {},
   "source": [
    "The first step is to import Twython, the third party library used to interact with Twitter."
   ]
  },
  {
   "cell_type": "code",
   "execution_count": null,
   "metadata": {},
   "outputs": [],
   "source": [
    "from twython import Twython, TwythonError"
   ]
  },
  {
   "cell_type": "markdown",
   "metadata": {},
   "source": [
    "I also have to import 'time' to implement pausing in between requests. "
   ]
  },
  {
   "cell_type": "code",
   "execution_count": null,
   "metadata": {},
   "outputs": [],
   "source": [
    "import time"
   ]
  },
  {
   "cell_type": "markdown",
   "metadata": {},
   "source": [
    "### Gaining Access to Twitter\n",
    "\n",
    "Next, I have to list my user credentials to access the Twitter API. Each authorization key should be inputted as a string."
   ]
  },
  {
   "cell_type": "code",
   "execution_count": null,
   "metadata": {},
   "outputs": [],
   "source": [
    "access_token = 'ACCESS TOKEN HERE'\n",
    "access_token_secret = 'SECRET ACCESS TOKEN HERE'\n",
    "consumer_key = 'CONSUMER KEY HERE'\n",
    "consumer_secret = 'SECRET CONSUMER KEY HERE'"
   ]
  },
  {
   "cell_type": "markdown",
   "metadata": {},
   "source": [
    "I have to provide the keys and tokens to Twitter as part of the authorization process and, then, create the actual interface."
   ]
  },
  {
   "cell_type": "code",
   "execution_count": null,
   "metadata": {},
   "outputs": [],
   "source": [
    "twitter = Twython(consumer_key, consumer_secret, access_token, access_token_secret)"
   ]
  },
  {
   "cell_type": "markdown",
   "metadata": {},
   "source": [
    "### Variables"
   ]
  },
  {
   "cell_type": "markdown",
   "metadata": {},
   "source": [
    "Set the following field below to 'True' if trying to get the specified user's followers. Set it to 'False' if trying to get the specified user's friends (who the user follows)."
   ]
  },
  {
   "cell_type": "code",
   "execution_count": null,
   "metadata": {},
   "outputs": [],
   "source": [
    "return_followers = False"
   ]
  },
  {
   "cell_type": "markdown",
   "metadata": {},
   "source": [
    "Input the users' screen names and/or user IDs into the list below. e.g. ['user1', 'user2', 'user3']"
   ]
  },
  {
   "cell_type": "code",
   "execution_count": null,
   "metadata": {},
   "outputs": [],
   "source": [
    "user_list = ['user1', 'user2']"
   ]
  },
  {
   "cell_type": "markdown",
   "metadata": {},
   "source": [
    "### Functions\n",
    "\n",
    "Next, I define the necessary functions."
   ]
  },
  {
   "cell_type": "markdown",
   "metadata": {},
   "source": [
    "This function returns a list of user IDs representing the followers of the specified user."
   ]
  },
  {
   "cell_type": "code",
   "execution_count": null,
   "metadata": {},
   "outputs": [],
   "source": [
    "def followers(user):\n",
    "    # Setting up an empty list for the follower ids\n",
    "    follower_ids = []\n",
    "    \n",
    "    # Getting the initial batch of the user's followers\n",
    "    followers = twitter.get_followers_ids(screen_name = user, count = 5000)\n",
    "    \n",
    "    # Printing out a statement indicating the request number\n",
    "    print(\"Just finished request #1 for user \" + user + \".\")\n",
    "    \n",
    "    # Adding the downloaded followers to the list\n",
    "    for id in followers['ids']: \n",
    "        follower_ids.append(id)\n",
    "    \n",
    "    # Setting the request count to 1\n",
    "    req_num = 1\n",
    "   \n",
    "    while followers['next_cursor'] != 0:\n",
    "        # Pausing for 1 minute to avoid hitting the rate limit\n",
    "        sleepy()\n",
    "        \n",
    "        # Getting a subseqeunt batch of the user's followers\n",
    "        followers = twitter.get_followers_ids(screen_name = user, count = 5000, cursor = (followers['next_cursor']))                                             \n",
    "        \n",
    "        # Adding the downloaded followers to the list \n",
    "        for id in followers['ids']: \n",
    "            follower_ids.append(id)\n",
    "        \n",
    "        # Printing out a statement indicating the request number\n",
    "        req_num += 1\n",
    "        print(\"Just finished request # \" + str(req_num) + \"for user \" + user + \".\")\n",
    "    \n",
    "    # Printing out a statement indicating requests for user are complete\n",
    "    print(\"Finished all requests for user \" + user + \".\")\n",
    "    \n",
    "    return(follower_ids)"
   ]
  },
  {
   "cell_type": "markdown",
   "metadata": {},
   "source": [
    "This function returns a list of user IDs representing the friends of the specified user."
   ]
  },
  {
   "cell_type": "code",
   "execution_count": null,
   "metadata": {},
   "outputs": [],
   "source": [
    "def friends(user):\n",
    "    # Setting up an empty list for the friend ids\n",
    "    friend_ids = []\n",
    "    \n",
    "    # Getting the initial batch of the user's followers\n",
    "    friends = twitter.get_friends_ids(screen_name = user, count = 5000)\n",
    "    \n",
    "    # Printing out a statement indicating the request number\n",
    "    print(\"Just finished request #1 for user \" + user + \".\")\n",
    "    \n",
    "    # Adding the downloaded followers to the list\n",
    "    for id in friends['ids']: \n",
    "        friend_ids.append(id)\n",
    "    \n",
    "    # Setting the request count to 1\n",
    "    req_num = 1\n",
    "   \n",
    "    while friends['next_cursor'] != 0:\n",
    "        # Pausing for 1 minute to avoid hitting the rate limit\n",
    "        sleepy()\n",
    "        \n",
    "        # Getting a subseqeunt batch of the user's followers\n",
    "        friends = twitter.get_followers_ids(screen_name = user, count = 5000, cursor = (followers['next_cursor']))                                             \n",
    "        \n",
    "        # Adding the downloaded followers to the list \n",
    "        for id in friends['ids']: \n",
    "            friend_ids.append(id)\n",
    "        \n",
    "        # Printing out a statement indicating the request number\n",
    "        req_num += 1\n",
    "        print(\"Just finished request # \" + str(req_num) + \"for user \" + user + \".\")\n",
    "    \n",
    "    # Printing out a statement indicating requests for user are complete\n",
    "    print(\"Finished all requests for user \" + user + \".\")\n",
    "    \n",
    "    return(friend_ids)"
   ]
  },
  {
   "cell_type": "markdown",
   "metadata": {},
   "source": [
    "The function below is used to name the .txt file to which the users will be printed."
   ]
  },
  {
   "cell_type": "code",
   "execution_count": null,
   "metadata": {},
   "outputs": [],
   "source": [
    "def txt_name(user):\n",
    "    if return_followers == True:\n",
    "        document = str(user + \"_ids_followers.txt\")\n",
    "    else:\n",
    "        document = str(user + \"_ids_friends.txt\")\n",
    "    return(document)"
   ]
  },
  {
   "cell_type": "markdown",
   "metadata": {},
   "source": [
    "The function below is used to save the user information to a text file."
   ]
  },
  {
   "cell_type": "code",
   "execution_count": null,
   "metadata": {},
   "outputs": [],
   "source": [
    "def save(results, user):\n",
    "    with open(txt_name(user), 'w', encoding='utf8') as f:\n",
    "        print(results, file=f)\n",
    "    if return_followers == True:\n",
    "        print(\"Successfully saved the list of followers of @\" + str(user) + \"to a .txt file.\")\n",
    "    else:\n",
    "        print(\"Successfully saved the list of users followed by @\" + str(user) + \" to a .txt file.\")\n",
    "    return()"
   ]
  },
  {
   "cell_type": "markdown",
   "metadata": {},
   "source": [
    "The function below prints out a message based on the error code if a Twython error is raised."
   ]
  },
  {
   "cell_type": "code",
   "execution_count": null,
   "metadata": {},
   "outputs": [],
   "source": [
    "def error_msg(e, user):\n",
    "    print(\"Encountered error when sending request for user @\" + str(user) + \".\")\n",
    "    try:\n",
    "        print(e)\n",
    "    except:\n",
    "        print(\"Unknown error.\")\n",
    "    return()"
   ]
  },
  {
   "cell_type": "markdown",
   "metadata": {},
   "source": [
    "The function below forces the program to sleep for a minute to avoid tripping the rate limits."
   ]
  },
  {
   "cell_type": "code",
   "execution_count": null,
   "metadata": {},
   "outputs": [],
   "source": [
    "def sleepy():\n",
    "    print(\"Pausing for one minute before completing next request.\")\n",
    "    time.sleep(30)\n",
    "    print(\"30 seconds have lapsed. 30 more seconds to go.\")\n",
    "    time.sleep(30)\n",
    "    print(\"Finished pausing for one minute. Will proceed to next request.\")\n",
    "    return()"
   ]
  },
  {
   "cell_type": "markdown",
   "metadata": {},
   "source": [
    "### Driver Code"
   ]
  },
  {
   "cell_type": "markdown",
   "metadata": {},
   "source": [
    "Now, I run the functions."
   ]
  },
  {
   "cell_type": "code",
   "execution_count": null,
   "metadata": {},
   "outputs": [],
   "source": [
    "for user in user_list:\n",
    "    print(\"\\nAttempting requests for user @\" + str(user))\n",
    "    try:\n",
    "        if return_followers == True:\n",
    "            # Sending the request to Twitter\n",
    "            results = followers(user)\n",
    "            # Saving the results\n",
    "            save(results, user)\n",
    "            \n",
    "        else:\n",
    "            # Sending the request to Twitter\n",
    "            results = friends(user)\n",
    "            # Saving the results\n",
    "            save(results, user)\n",
    "\n",
    "    except TwythonError as e:\n",
    "        # Prints out an error message if an error is raised\n",
    "        error_msg(e, user)\n",
    "        break\n",
    "    \n",
    "    if user == user_list[-1]:\n",
    "        # Prints out a finished statement if all of the users have been saved\n",
    "        print(\"\\nProgram complete! Finished sending requests for each user in the list.\")\n",
    "    else:\n",
    "        # Pauses the program between users to avoid hitting the rate limit\n",
    "        sleepy()"
   ]
  }
 ],
 "metadata": {
  "kernelspec": {
   "display_name": "Python 3",
   "language": "python",
   "name": "python3"
  },
  "language_info": {
   "codemirror_mode": {
    "name": "ipython",
    "version": 3
   },
   "file_extension": ".py",
   "mimetype": "text/x-python",
   "name": "python",
   "nbconvert_exporter": "python",
   "pygments_lexer": "ipython3",
   "version": "3.7.3"
  }
 },
 "nbformat": 4,
 "nbformat_minor": 2
}
